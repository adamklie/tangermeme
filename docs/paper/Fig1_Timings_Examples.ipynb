{
 "cells": [
  {
   "cell_type": "markdown",
   "id": "66a4b111-2ed8-402d-a3bf-16ddedeb1db2",
   "metadata": {},
   "source": [
    "### Initial Demonstrations of Tangermeme\n",
    "\n",
    "As an initial demonstration of the capabilities of tangermeme, we showed off the timings for one-hot encoding the entirety of chr1, how to avoid silent failures when running DeepLIFT/SHAP with unregistered model components, and how operations can be stacked on each other to decompose the sequence manipulation and the model operation step."
   ]
  },
  {
   "cell_type": "markdown",
   "id": "3090022f-0212-43f8-8657-6ed7593d5333",
   "metadata": {},
   "source": [
    "#### One-Hot Encoding Timings\n",
    "\n",
    "First, we timed various implementations of one-hot encodings across packages. To demonstrate the a compute-intensive case, we show the time it takes to one-hot encode the entire human genome. To avoid differences in whether an implementation is multi-threaded or single-threaded, we forced using only a single thread. Part of the reasoning here is because multi-threaded implementations will have vastly different performance profiles depending on the hardware of the user (not only the number of CPUs/threads but also how well thread communication is handled) and so limiting to a single thread provides a fairer comparison. \n",
    "\n",
    "Because some of the evaluations below take quite some time to perform repeatedly, we have commented out the actual calls to those functions and instead read in pre-computed results. However, this still shows how long each of the functions takes and what our procedure for calling those functions is. Feel free the uncomment those lines to perform the timings yourself on your hardware.\n",
    "\n",
    "Let's start off by loading up chr1."
   ]
  },
  {
   "cell_type": "code",
   "execution_count": 1,
   "id": "3b75ef50-25c8-445f-8eef-f14f5ece6312",
   "metadata": {},
   "outputs": [
    {
     "name": "stdout",
     "output_type": "stream",
     "text": [
      "248956422\n"
     ]
    }
   ],
   "source": [
    "import numpy\n",
    "\n",
    "import pyfaidx\n",
    "import numba\n",
    "numba.set_num_threads(1)\n",
    "\n",
    "\n",
    "fa = pyfaidx.Fasta(\"/users/jacob.schreiber/common/hg38.fa\")\n",
    "X = fa['chr1'][:].seq.upper()\n",
    "print(len(X))\n",
    "\n",
    "n_repeats = 10\n",
    "timings = numpy.zeros((6, n_repeats), dtype=numpy.float32)"
   ]
  },
  {
   "cell_type": "markdown",
   "id": "3aaf6e84-c9b1-4896-8666-684d2e432499",
   "metadata": {},
   "source": [
    "Now, let's create a general-purpose timing wrapper that takes in the function and runs it a specified number of times. Having a wrapper function like this will diminish the potential for errors across comparisons."
   ]
  },
  {
   "cell_type": "code",
   "execution_count": 2,
   "id": "08acf7e7-5b94-46b6-b835-1b2c051d791d",
   "metadata": {},
   "outputs": [],
   "source": [
    "import time\n",
    "\n",
    "def time_function(f, X, n_repeats):\n",
    "    timings = numpy.zeros(n_repeats)\n",
    "    f(X)\n",
    "    \n",
    "    for i in range(n_repeats):\n",
    "        tic = time.time()\n",
    "        \n",
    "        f(X)\n",
    "        \n",
    "        timings[i] = time.time() - tic\n",
    "    \n",
    "    return timings"
   ]
  },
  {
   "cell_type": "markdown",
   "id": "a035db33-05c9-4722-9f81-623b34457faf",
   "metadata": {},
   "source": [
    "First, we will time tangermeme. Remember that we have commented out the actual running of the function and so the time is incorrectly shown as \"0.0\". "
   ]
  },
  {
   "cell_type": "code",
   "execution_count": 3,
   "id": "d86435a6-1959-4526-bbcb-322925c2f80f",
   "metadata": {},
   "outputs": [
    {
     "data": {
      "text/plain": [
       "(0.0, 0.0)"
      ]
     },
     "execution_count": 3,
     "metadata": {},
     "output_type": "execute_result"
    }
   ],
   "source": [
    "from tangermeme.utils import one_hot_encode\n",
    "\n",
    "#timings[0] = time_function(one_hot_encode, X, n_repeats=n_repeats)\n",
    "timings[0].mean().item(), timings[0].std().item()"
   ]
  },
  {
   "cell_type": "markdown",
   "id": "6d182d1d-56ce-40cb-82aa-884a6188cb4f",
   "metadata": {},
   "source": [
    "Next, we will look at SeqPro. Doing a one-hot encoding with SeqPro requires creating a `NucleotideAlphabet` object that then has a `ohe` method. Creating this object does not take that much time, but we will exclude this time from the actual comparison. This slightly disadvantages tangermeme, which still has to figure out what to do with an alphabet of letters as part of the running time."
   ]
  },
  {
   "cell_type": "code",
   "execution_count": 4,
   "id": "29f07986-83a3-4340-8951-ef26695ff4df",
   "metadata": {},
   "outputs": [
    {
     "data": {
      "text/plain": [
       "(0.0, 0.0)"
      ]
     },
     "execution_count": 4,
     "metadata": {},
     "output_type": "execute_result"
    }
   ],
   "source": [
    "from seqpro.alphabets import NucleotideAlphabet\n",
    "\n",
    "n = NucleotideAlphabet(\"ACGT\", \"TGCA\")\n",
    "\n",
    "#timings[1] = time_function(n.ohe, X, n_repeats=n_repeats)\n",
    "timings[1].mean().item(), timings[1].std().item()"
   ]
  },
  {
   "cell_type": "markdown",
   "id": "c11c46a9-9bd5-4198-b797-5e568042435f",
   "metadata": {},
   "source": [
    "Next, we will compare against crested, which also has a one-hot encoding function."
   ]
  },
  {
   "cell_type": "code",
   "execution_count": 5,
   "id": "3ed6b01a-ef76-4864-967f-e7058065560f",
   "metadata": {},
   "outputs": [
    {
     "data": {
      "text/plain": [
       "(0.0, 0.0)"
      ]
     },
     "execution_count": 5,
     "metadata": {},
     "output_type": "execute_result"
    }
   ],
   "source": [
    "from crested.utils import one_hot_encode_sequence\n",
    "\n",
    "#timings[2] = time_function(one_hot_encode_sequence, X, n_repeats=n_repeats)\n",
    "timings[2].mean().item(), timings[1].std().item()"
   ]
  },
  {
   "cell_type": "markdown",
   "id": "07d9cea5-b1d8-4ec1-8ce0-db5167d01ac3",
   "metadata": {},
   "source": [
    "Next, we will compare against gReLU, which also has a one-hot encoding function."
   ]
  },
  {
   "cell_type": "code",
   "execution_count": 6,
   "id": "e84245fa-f3c4-4094-8372-8668c8e544c7",
   "metadata": {},
   "outputs": [
    {
     "name": "stderr",
     "output_type": "stream",
     "text": [
      "/users/jacob.schreiber/anaconda3/envs/tangermeme/lib/python3.10/site-packages/tqdm/auto.py:21: TqdmWarning: IProgress not found. Please update jupyter and ipywidgets. See https://ipywidgets.readthedocs.io/en/stable/user_install.html\n",
      "  from .autonotebook import tqdm as notebook_tqdm\n"
     ]
    },
    {
     "data": {
      "text/plain": [
       "(0.0, 0.0)"
      ]
     },
     "execution_count": 6,
     "metadata": {},
     "output_type": "execute_result"
    }
   ],
   "source": [
    "from grelu.sequence.format import strings_to_one_hot\n",
    "\n",
    "#timings[3] = time_function(strings_to_one_hot, X, n_repeats=n_repeats)\n",
    "timings[3].mean().item(), timings[1].std().item()"
   ]
  },
  {
   "cell_type": "markdown",
   "id": "a843db8f-6ba7-4cfe-b58e-b6c9748aad6a",
   "metadata": {},
   "source": [
    "Next, we will compare against selene, whose one-hot encoding function has to be wrapped to make it more compatible with our expected usage."
   ]
  },
  {
   "cell_type": "code",
   "execution_count": 7,
   "id": "a13ef8b9-88ce-4feb-ab0e-7bbdee61223a",
   "metadata": {},
   "outputs": [
    {
     "data": {
      "text/plain": [
       "(0.0, 0.0)"
      ]
     },
     "execution_count": 7,
     "metadata": {},
     "output_type": "execute_result"
    }
   ],
   "source": [
    "from selene_sdk.sequences.sequence import sequence_to_encoding\n",
    "\n",
    "BASE_TO_INDEX = {'A': 0, 'C': 1, 'G': 2, 'T': 3}\n",
    "BASES_ARR = ['A', 'C', 'G', 'T']\n",
    "\n",
    "selene_ohe = lambda x: sequence_to_encoding(x, BASE_TO_INDEX, BASES_ARR)\n",
    "\n",
    "#timings[4] = time_function(selene_ohe, X, n_repeats=n_repeats)\n",
    "timings[4].mean().item(), timings[3].std().item()"
   ]
  },
  {
   "cell_type": "markdown",
   "id": "be1208a6-c61e-433b-95a2-03077ef7a13e",
   "metadata": {},
   "source": [
    "Finally, we will compare against the one-hot encoding function in the official ChromBPNet repository."
   ]
  },
  {
   "cell_type": "code",
   "execution_count": 8,
   "id": "d47fbcec-3649-42f3-aab1-800b4a6411d4",
   "metadata": {},
   "outputs": [
    {
     "data": {
      "text/plain": [
       "(0.0, 0.0)"
      ]
     },
     "execution_count": 8,
     "metadata": {},
     "output_type": "execute_result"
    }
   ],
   "source": [
    "import numpy as np\n",
    "\n",
    "def chrombpnet_dna_to_one_hot(seqs):\n",
    "    \"\"\"\n",
    "    Converts a list of DNA (\"ACGT\") sequences to one-hot encodings, where the\n",
    "    position of 1s is ordered alphabetically by \"ACGT\". `seqs` must be a list\n",
    "    of N strings, where every string is the same length L. Returns an N x L x 4\n",
    "    NumPy array of one-hot encodings, in the same order as the input sequences.\n",
    "    All bases will be converted to upper-case prior to performing the encoding.\n",
    "    Any bases that are not \"ACGT\" will be given an encoding of all 0s.\n",
    "    \"\"\"\n",
    "    seq_len = len(seqs[0])\n",
    "    assert np.all(np.array([len(s) for s in seqs]) == seq_len)\n",
    "\n",
    "    # Join all sequences together into one long string, all uppercase\n",
    "    seq_concat = \"\".join(seqs).upper() + \"ACGT\"\n",
    "    # Add one example of each base, so np.unique doesn't miss indices later\n",
    "\n",
    "    one_hot_map = np.identity(5)[:, :-1].astype(np.int8)\n",
    "\n",
    "    # Convert string into array of ASCII character codes;\n",
    "    base_vals = np.frombuffer(bytearray(seq_concat, \"utf8\"), dtype=np.int8)\n",
    "\n",
    "    # Anything that's not an A, C, G, or T gets assigned a higher code\n",
    "    base_vals[~np.isin(base_vals, np.array([65, 67, 71, 84]))] = 85\n",
    "\n",
    "    # Convert the codes into indices in [0, 4], in ascending order by code\n",
    "    _, base_inds = np.unique(base_vals, return_inverse=True)\n",
    "\n",
    "    # Get the one-hot encoding for those indices, and reshape back to separate\n",
    "    return one_hot_map[base_inds[:-4]].reshape((len(seqs), seq_len, 4))\n",
    "\n",
    "#timings[5] = time_function(chrombpnet_dna_to_one_hot, X, n_repeats=n_repeats)\n",
    "timings[5].mean().item(), timings[4].std().item()"
   ]
  },
  {
   "cell_type": "markdown",
   "id": "dfee4297-7183-46ce-a1b1-7da75846e55a",
   "metadata": {},
   "source": [
    "Be careful here -- we can either save the timings (commented out by default) or load the pre-calculated ones."
   ]
  },
  {
   "cell_type": "code",
   "execution_count": 9,
   "id": "1bd7e8f1-80bf-458a-9095-b00256ae10ca",
   "metadata": {},
   "outputs": [],
   "source": [
    "#numpy.save(\"ohe_timings.npy\", timings)\n",
    "timings = numpy.load(\"ohe_timings.npy\")"
   ]
  },
  {
   "cell_type": "markdown",
   "id": "b8d27757-834c-429e-b0ce-c12d75c8eb36",
   "metadata": {},
   "source": [
    "Now, we can plot the mean and standard deviation of each run."
   ]
  },
  {
   "cell_type": "code",
   "execution_count": 10,
   "id": "3bafcf6b-9328-4cb5-bd58-54c1fdc1c26c",
   "metadata": {},
   "outputs": [
    {
     "data": {
      "image/png": "[encoded data removed]",
      "text/plain": [
       "<Figure size 300x300 with 1 Axes>"
      ]
     },
     "metadata": {},
     "output_type": "display_data"
    }
   ],
   "source": [
    "import matplotlib\n",
    "matplotlib.use('pdf')\n",
    "\n",
    "%matplotlib inline\n",
    "\n",
    "import matplotlib.pyplot as plt\n",
    "import seaborn; seaborn.set_style('whitegrid')\n",
    "\n",
    "colors = ['#FCAE7C', '#F9FFB5', '#D6F6FF', '#B3F5BC', '#FD706B', '#D18DFF']\n",
    "names = ['tangermeme', 'SeqPro', 'CREsted', 'gReLU', 'Selene SDK', 'ChromBPNet']\n",
    "t = timings.mean(axis=1)\n",
    "\n",
    "plt.figure(figsize=(3, 3))\n",
    "plt.bar(range(6), t, facecolor=colors, edgecolor='0.2')\n",
    "plt.errorbar(range(6), t, yerr=timings.std(axis=1), fmt='none', c='k', barsabove=True)\n",
    "\n",
    "for i in range(timings.shape[0]):\n",
    "    plt.text(i-0.25, 11, s=\"{:3.3}\".format(t[i]), fontsize=7)\n",
    "\n",
    "plt.title(\"One-Hot Encode chr1\", fontsize=10)\n",
    "plt.ylabel(\"Time (s)\", fontsize=8)\n",
    "plt.xticks(range(6), names, rotation=40, fontsize=8)\n",
    "plt.yticks(fontsize=8)\n",
    "\n",
    "\n",
    "seaborn.despine(left=True)\n",
    "plt.grid(False, axis=\"x\") \n",
    "plt.tight_layout()\n",
    "plt.savefig('tangermeme-fig1-timings.pdf')\n",
    "plt.show()"
   ]
  },
  {
   "cell_type": "markdown",
   "id": "46ad5111-1a6d-4ce1-8ee8-258b5bff92c4",
   "metadata": {},
   "source": [
    "#### Convergence Deltas with Captum\n",
    "\n",
    "Although DeepLIFT/SHAP have been extensively used as feature attribution algorithms, their implementations are surprisingly brittle. Specifically, they rely on overriding the forward and backward pass operations on *solely non-linear* operations. How do the implementations know which operations are non-linear? Good question -- and exactly where the issues arise. I have written more extensively about this issue [here](https://tangermeme.readthedocs.io/en/latest/vignettes/Attribution_Trickiness_and_DeepLiftShap_Implementations.html) but the gist is basically that almost all other implementations will silently fail if you do not register all your non-linear operations correctly. This can include:\n",
    "\n",
    "1. Failing to add your custom non-linear layer to their internal (sometimes hard to find) dictionary of operations\n",
    "2. Failing to add a built-in non-linear layer that simply is not already in their internal dictionary, e.g. for an operation added to PyTorch after the DeepLIFT implementation was released\n",
    "3. Re-using non-linear layers, like activations, multiple times in the same forward function\n",
    "4. Creating non-linear layers in the forward function instead of in __init__ \n",
    "5. Using non-linear operations outside the context of a registered torch.nn.Module object, e.g. running `torch.exp` within the forward function\n",
    "\n",
    "Each of these can cause a non-linear operation to be treated as a linear one, and when that happens the convergence property of DeepLIFT/SHAP no longer holds. When the divergence is too high, tangermeme will issue a warning.\n",
    "\n",
    "Let's see this in action with a GATA2 BPNet model."
   ]
  },
  {
   "cell_type": "code",
   "execution_count": 11,
   "id": "2af2406e-4045-4c65-9e43-ef643d8c080e",
   "metadata": {},
   "outputs": [],
   "source": [
    "import torch\n",
    "\n",
    "from bpnetlite.bpnet import ControlWrapper\n",
    "from bpnetlite.bpnet import ProfileWrapper\n",
    "from bpnetlite.bpnet import CountWrapper\n",
    "\n",
    "model = torch.load(\"/users/jacob.schreiber/models/bpnet/GATA2.torch\")\n",
    "model = ControlWrapper(model)\n",
    "\n",
    "profile_model = ProfileWrapper(model)\n",
    "count_model = CountWrapper(model)"
   ]
  },
  {
   "cell_type": "markdown",
   "id": "2fbbc1b1-c117-423c-af0f-a520fc267e3f",
   "metadata": {},
   "source": [
    "As a sequence to analyze, let's make a random one-hot encoded sequence where we stick a high affinity GATA motif into the middle. Because we will be using different implementations of DeepLIFT, we should also pre-shuffle our sequences to make sure the results from the two methods are comparable."
   ]
  },
  {
   "cell_type": "code",
   "execution_count": 12,
   "id": "bb0a456b-c0bf-4733-a9e7-1b2d62e3a255",
   "metadata": {},
   "outputs": [],
   "source": [
    "from tangermeme.utils import random_one_hot\n",
    "from tangermeme.ersatz import substitute\n",
    "from tangermeme.ersatz import dinucleotide_shuffle\n",
    "\n",
    "X = random_one_hot((1, 4, 2114), random_state=0).type(torch.float32)\n",
    "X = substitute(X, \"AGATAAG\")\n",
    "\n",
    "X_dinuc = dinucleotide_shuffle(X, random_state=0)\n",
    "\n",
    "X = X.cuda()\n",
    "X_dinuc = X_dinuc.cuda()"
   ]
  },
  {
   "cell_type": "markdown",
   "id": "35130cac-56ec-4cf7-b309-72713e50bacb",
   "metadata": {},
   "source": [
    "First, let's run the two implementations on the count head of the BPNet model. This should be fairly straightforward as there are no additional non-linear operations that would need to be registered."
   ]
  },
  {
   "cell_type": "code",
   "execution_count": 13,
   "id": "d71e8f60-948f-4479-959d-92c5837dca9e",
   "metadata": {},
   "outputs": [
    {
     "name": "stderr",
     "output_type": "stream",
     "text": [
      "/users/jacob.schreiber/anaconda3/envs/tangermeme/lib/python3.10/site-packages/captum/attr/_core/deep_lift.py:336: UserWarning: Setting forward, backward hooks and attributes on non-linear\n",
      "               activations. The hooks and attributes will be removed\n",
      "            after the attribution is finished\n",
      "  warnings.warn(\n"
     ]
    }
   ],
   "source": [
    "import numpy\n",
    "from captum.attr import DeepLiftShap\n",
    "\n",
    "from tangermeme.predict import predict\n",
    "from tangermeme.deep_lift_shap import deep_lift_shap\n",
    "from tangermeme.deep_lift_shap import hypothetical_attributions\n",
    "\n",
    "X_attr_t = deep_lift_shap(count_model, X, references=X_dinuc, raw_outputs=True)\n",
    "y_hat = predict(count_model, X)\n",
    "y_dinuc_hat = predict(count_model, X_dinuc[0])\n",
    "\n",
    "input_diff = torch.sum((X - X_dinuc) * X_attr_t.cuda(), dim=(2, 3))[0].numpy(force=True)\n",
    "output_diff = (y_hat - y_dinuc_hat)[:, 0].numpy(force=True)\n",
    "\n",
    "count_deltas_t = numpy.abs(input_diff - output_diff)\n",
    "\n",
    "###\n",
    "\n",
    "X_attr_c, count_deltas_c = DeepLiftShap(count_model).attribute(X, X_dinuc[0], return_convergence_delta=True)\n",
    "count_deltas_c = numpy.abs(count_deltas_c.numpy(force=True))"
   ]
  },
  {
   "cell_type": "markdown",
   "id": "007af7d9-bffa-47d6-bd8a-b9d6b8457b29",
   "metadata": {},
   "source": [
    "Other than a generic warning about hooks being set, both implementations seem to run without issue. There is a little bit of additional code for calculating the deltas from the tangerememe attributions.\n",
    "\n",
    "Next, let's try calculating attributions for the profile head. This involves a non-linearity, as the 1000 bp output is converted to a single number by doing the dot product between itself and the exponentiated version of itself. This operation can be easily registered in tangermeme through the `additional_nonlinear_ops` argument and using the `_nonlinear` tag."
   ]
  },
  {
   "cell_type": "code",
   "execution_count": 14,
   "id": "20ae8810-7096-4ca5-9c2d-e6a03c2ae848",
   "metadata": {},
   "outputs": [],
   "source": [
    "from bpnetlite.bpnet import _ProfileLogitScaling\n",
    "from tangermeme.deep_lift_shap import _nonlinear\n",
    "\n",
    "X_attr_t = deep_lift_shap(profile_model, X, references=X_dinuc, \n",
    "    additional_nonlinear_ops={_ProfileLogitScaling: _nonlinear}, raw_outputs=True)\n",
    "\n",
    "y_hat = predict(profile_model, X)\n",
    "y_dinuc_hat = predict(profile_model, X_dinuc[0])\n",
    "\n",
    "input_diff = torch.sum((X - X_dinuc) * X_attr_t.cuda(), dim=(2, 3))[0].numpy(force=True)\n",
    "output_diff = (y_hat - y_dinuc_hat)[:, 0].numpy(force=True)\n",
    "\n",
    "profile_deltas_t = numpy.abs(input_diff - output_diff)\n",
    "\n",
    "###\n",
    "\n",
    "X_attr_c, profile_deltas_c = DeepLiftShap(profile_model).attribute(X, X_dinuc[0], return_convergence_delta=True)\n",
    "profile_deltas_c = numpy.abs(profile_deltas_c.numpy(force=True))"
   ]
  },
  {
   "cell_type": "markdown",
   "id": "4e864460-0855-40f9-be65-d6bbcf25255c",
   "metadata": {},
   "source": [
    "Both implementations seem to run without warnings. What happens when we plot the convergence deltas?"
   ]
  },
  {
   "cell_type": "code",
   "execution_count": 15,
   "id": "fbeb8291-8ddd-4ab9-adb2-127e413809ed",
   "metadata": {},
   "outputs": [
    {
     "data": {
      "image/png": "[encoded data removed]",
      "text/plain": [
       "<Figure size 250x300 with 1 Axes>"
      ]
     },
     "metadata": {},
     "output_type": "display_data"
    }
   ],
   "source": [
    "plt.figure(figsize=(2.5, 3))\n",
    "\n",
    "plt.boxplot([count_deltas_t, count_deltas_c, [], profile_deltas_t, profile_deltas_c])\n",
    "\n",
    "plt.ylabel(\"Divergence\")\n",
    "plt.yscale(\"log\")\n",
    "plt.xticks([1, 2, 4, 5], ['tangermeme', 'captum', 'tangermeme', 'captum'], rotation=90)\n",
    "plt.grid(False, axis='x')\n",
    "\n",
    "seaborn.despine(bottom=True, left=True)\n",
    "plt.tight_layout()\n",
    "plt.savefig('tangermeme-fig1-divergence.pdf')\n",
    "plt.show()"
   ]
  },
  {
   "cell_type": "markdown",
   "id": "2838ec99-56f4-4d7d-ad4a-3e6c00e67173",
   "metadata": {},
   "source": [
    "Looks like tangermeme and captum product attributions with similarly low divergences for the count model (the left two boxes) whereas captum produces attributions with very high divergences for the profile model, even though it did not raise a warning suggesting that something was wrong. In contrast, by registering the component with tangermeme, the convergence deltas remain similarly low as the count model."
   ]
  },
  {
   "cell_type": "markdown",
   "id": "c2e4d5e2-7ba3-4493-9242-5eff1b45361d",
   "metadata": {},
   "source": [
    "#### Operation Stacking\n",
    "\n",
    "One of the strengths of tangermeme is that operations can be stacked on top of each other in a flexible manner. Frequently, this comes in the form of operations like variant effect prediction where most implementations fuse together the sequence manipulation operation (the substitution) with the model operation (the prediction). But these operations do not have to be fused together -- any pair of sequence and model operations can be stacked together. For instance, given the same substitution, one may wish to then run DeepLIFT or some other attribution method to evaluate how a substitution influences how a sequence gets read. One may wish to run an in silico marginalization but report attributions instead of predictions. Or you may have some custom function that you want to apply before and after the sequence operation happens.\n",
    "\n",
    "Let's see this in action with a ChromBPNet model applied to a randomly generated sequence."
   ]
  },
  {
   "cell_type": "code",
   "execution_count": 17,
   "id": "ab74d929-842d-4304-b754-9f09128184cb",
   "metadata": {},
   "outputs": [],
   "source": [
    "from bpnetlite import BPNet\n",
    "from tangermeme.utils import random_one_hot\n",
    "\n",
    "X = random_one_hot((100, 4, 2114), probs=[0.28, 0.22, 0.22, 0.28], random_state=0).float()\n",
    "model = BPNet.from_chrombpnet(\"/users/jacob.schreiber/models/chrombpnet/fold_0/model.chrombpnet_nobias.fold_0.ENCSR868FGK.h5\")"
   ]
  },
  {
   "cell_type": "markdown",
   "id": "89cf69b7-f95d-4d0a-9240-f88e385221ff",
   "metadata": {},
   "source": [
    "The subsequent plots are panels for the figure below. I will only include brief descriptions of what each one is.\n",
    "\n",
    "First, we have predictions when marginalizing an AP-1 motif."
   ]
  },
  {
   "cell_type": "code",
   "execution_count": 18,
   "id": "8157ab22-1d58-4a78-8a93-3424cf791029",
   "metadata": {},
   "outputs": [
    {
     "data": {
      "image/png": "[encoded data removed]",
      "text/plain": [
       "<Figure size 250x200 with 1 Axes>"
      ]
     },
     "metadata": {},
     "output_type": "display_data"
    }
   ],
   "source": [
    "from tangermeme.marginalize import marginalize\n",
    "\n",
    "y_before, y_after = marginalize(model, X, \"ATGATGTCAT\")\n",
    "\n",
    "yb = torch.nn.functional.softmax(y_before[0].mean(dim=(0, 1)), dim=-1)\n",
    "ya = torch.nn.functional.softmax(y_after[0].mean(dim=(0, 1)), dim=-1)\n",
    "\n",
    "\n",
    "###\n",
    "\n",
    "plt.figure(figsize=(2.5, 2))\n",
    "\n",
    "plt.plot(yb, c='0.6', linewidth=1)\n",
    "plt.plot(ya, c='m', linewidth=1)\n",
    "plt.ylim(ya.min(), ya.max())\n",
    "plt.axis('off')\n",
    "\n",
    "plt.tight_layout()\n",
    "plt.savefig('tangermeme-fig1-marginalization-pred.pdf')\n",
    "plt.show()"
   ]
  },
  {
   "cell_type": "markdown",
   "id": "c4dfca85-c2a5-4d01-bb26-25be316cf669",
   "metadata": {},
   "source": [
    "Now, DeepLIFT/SHAP attributions with the same motif."
   ]
  },
  {
   "cell_type": "code",
   "execution_count": 19,
   "id": "1b959f5e-ed0e-48d5-b29f-b370cf3284bd",
   "metadata": {},
   "outputs": [
    {
     "data": {
      "image/png": "[encoded data removed]",
      "text/plain": [
       "<Figure size 300x200 with 2 Axes>"
      ]
     },
     "metadata": {},
     "output_type": "display_data"
    }
   ],
   "source": [
    "from bpnetlite.attribute import deep_lift_shap  # Note that we use the bpnet-lite version which registers the BPNet-specific non-linearities\n",
    "from tangermeme.plot import plot_logo\n",
    "\n",
    "y_before, y_after = marginalize(ProfileWrapper(model), X, \"ATGATGTCAT\", func=deep_lift_shap, n_shuffles=1, random_state=0)\n",
    "yb = y_before[:, :, 1040:1075].mean(dim=0)\n",
    "ya = y_after[:, :, 1040:1075].mean(dim=0)\n",
    "\n",
    "###\n",
    "\n",
    "plt.figure(figsize=(3, 2))\n",
    "\n",
    "plt.subplot(211)\n",
    "plot_logo(yb)\n",
    "plt.ylim(ya.min(), ya.max())\n",
    "plt.axis('off')\n",
    "\n",
    "plt.subplot(212)\n",
    "plot_logo(ya)\n",
    "plt.ylim(ya.min(), ya.max())\n",
    "plt.axis('off')\n",
    "\n",
    "plt.tight_layout()\n",
    "plt.savefig('tangermeme-fig1-marginalization-attr.pdf')\n",
    "plt.show()"
   ]
  },
  {
   "cell_type": "markdown",
   "id": "4bb01dee-aef2-4fe0-8a2e-5ba71ecef368",
   "metadata": {},
   "source": [
    "Finally, saturation mutagenesis on the same motif."
   ]
  },
  {
   "cell_type": "code",
   "execution_count": 20,
   "id": "3c02a558-801e-4af3-bbc4-eea49f71f84c",
   "metadata": {},
   "outputs": [
    {
     "data": {
      "image/png": "[encoded data removed]",
      "text/plain": [
       "<Figure size 300x200 with 2 Axes>"
      ]
     },
     "metadata": {},
     "output_type": "display_data"
    }
   ],
   "source": [
    "from tangermeme.saturation_mutagenesis import saturation_mutagenesis\n",
    "\n",
    "y_before, y_after = marginalize(ProfileWrapper(model), X, \"ATGATGTCAT\", func=saturation_mutagenesis,\n",
    "    additional_func_kwargs={'start': 1040, 'end': 1075})\n",
    "\n",
    "yb = y_before.mean(dim=0)\n",
    "ya = y_after.mean(dim=0)\n",
    "\n",
    "###\n",
    "\n",
    "plt.figure(figsize=(3, 2))\n",
    "\n",
    "plt.subplot(211)\n",
    "plot_logo(yb)\n",
    "plt.ylim(ya.min(), ya.max())\n",
    "plt.axis('off')\n",
    "\n",
    "plt.subplot(212)\n",
    "plot_logo(ya)\n",
    "plt.ylim(ya.min(), ya.max())\n",
    "plt.axis('off')\n",
    "\n",
    "plt.tight_layout()\n",
    "plt.savefig('tangermeme-fig1-marginalization-ism.pdf')\n",
    "plt.show()"
   ]
  },
  {
   "cell_type": "markdown",
   "id": "72ff3832-b459-4d5c-9e34-1b359784f6cd",
   "metadata": {},
   "source": [
    "Now, we consider ablations. In this case we begin with a sequence where the AP-1 motif has been substituted into the middle and we ablate it out using a dinucleotide shuffle.\n",
    "\n",
    "Here are the predictions."
   ]
  },
  {
   "cell_type": "code",
   "execution_count": 21,
   "id": "feee7020-c340-4042-87e8-ea80f51cccd3",
   "metadata": {},
   "outputs": [
    {
     "data": {
      "image/png": "[encoded data removed]",
      "text/plain": [
       "<Figure size 250x200 with 1 Axes>"
      ]
     },
     "metadata": {},
     "output_type": "display_data"
    }
   ],
   "source": [
    "from tangermeme.ablate import ablate\n",
    "from tangermeme.ersatz import substitute\n",
    "\n",
    "X_ = substitute(X, \"ATGATGTCAT\")\n",
    "\n",
    "y_before, y_after = ablate(model, X_, 1030, 1075, n=1)\n",
    "\n",
    "yb = torch.nn.functional.softmax(y_before[0].mean(dim=(0, 1)), dim=-1)\n",
    "ya = torch.nn.functional.softmax(y_after[0].mean(dim=(0, 1, 2)), dim=-1)\n",
    "\n",
    "###\n",
    "\n",
    "plt.figure(figsize=(2.5, 2))\n",
    "\n",
    "plt.plot(yb, c='0.6', linewidth=1)\n",
    "plt.plot(ya, c='c', linewidth=1)\n",
    "plt.ylim(yb.min(), yb.max())\n",
    "plt.axis('off')\n",
    "\n",
    "plt.tight_layout()\n",
    "plt.savefig('tangermeme-fig1-ablate-pred.pdf')\n",
    "plt.show()"
   ]
  },
  {
   "cell_type": "markdown",
   "id": "50502cb7-c67c-4ac1-b440-c0e82d63bc1d",
   "metadata": {},
   "source": [
    "Here are the DeepLIFT attributions."
   ]
  },
  {
   "cell_type": "code",
   "execution_count": 22,
   "id": "9ee88457-0b83-4e21-8694-e69f8d6d9ce4",
   "metadata": {},
   "outputs": [
    {
     "data": {
      "image/png": "[encoded data removed]",
      "text/plain": [
       "<Figure size 300x200 with 2 Axes>"
      ]
     },
     "metadata": {},
     "output_type": "display_data"
    }
   ],
   "source": [
    "y_before, y_after = ablate(ProfileWrapper(model), X_, 1030, 1075, func=deep_lift_shap, n=1, random_state=0)\n",
    "\n",
    "yb = y_before[:, :, 1040:1075].mean(dim=0)\n",
    "ya = y_after[:, 0, :, 1040:1075].mean(dim=0)\n",
    "\n",
    "###\n",
    "\n",
    "plt.figure(figsize=(3, 2))\n",
    "\n",
    "plt.subplot(211)\n",
    "plot_logo(yb)\n",
    "plt.ylim(yb.min(), yb.max())\n",
    "plt.axis('off')\n",
    "\n",
    "plt.subplot(212)\n",
    "plot_logo(ya)\n",
    "plt.ylim(yb.min(), yb.max())\n",
    "plt.axis('off')\n",
    "\n",
    "plt.tight_layout()\n",
    "plt.savefig('tangermeme-fig1-ablate-attr.pdf')\n",
    "plt.show()"
   ]
  },
  {
   "cell_type": "markdown",
   "id": "4f6fd5a5-0d12-458d-83b9-69103c1e0e2b",
   "metadata": {},
   "source": [
    "Finally, here is the saturation mutagenesis."
   ]
  },
  {
   "cell_type": "code",
   "execution_count": 23,
   "id": "e385ea1b-34a8-4955-9bc3-658558697161",
   "metadata": {},
   "outputs": [
    {
     "data": {
      "image/png": "[encoded data removed]",
      "text/plain": [
       "<Figure size 300x200 with 2 Axes>"
      ]
     },
     "metadata": {},
     "output_type": "display_data"
    }
   ],
   "source": [
    "y_before, y_after = ablate(ProfileWrapper(model), X_, 1030, 1075, func=saturation_mutagenesis, n=1, random_state=0,\n",
    "    additional_func_kwargs={'start': 1040, 'end': 1075})\n",
    "\n",
    "yb = y_before.mean(dim=0)\n",
    "ya = y_after[:, 0].mean(dim=0)\n",
    "\n",
    "###\n",
    "\n",
    "plt.figure(figsize=(3, 2))\n",
    "\n",
    "plt.subplot(211)\n",
    "plot_logo(yb)\n",
    "plt.ylim(yb.min(), yb.max())\n",
    "plt.axis('off')\n",
    "\n",
    "plt.subplot(212)\n",
    "plot_logo(ya)\n",
    "plt.ylim(yb.min(), yb.max())\n",
    "plt.axis('off')\n",
    "\n",
    "plt.tight_layout()\n",
    "plt.savefig('tangermeme-fig1-ablate-ism.pdf')\n",
    "plt.show()"
   ]
  },
  {
   "cell_type": "markdown",
   "id": "dbdd9381-9157-4e92-ac8b-777e6522513d",
   "metadata": {},
   "source": [
    "Lastly, we will consider the case where the sequence operation is a substitution.\n",
    "\n",
    "First, we can get predictions from the model."
   ]
  },
  {
   "cell_type": "code",
   "execution_count": 24,
   "id": "798a3fd6-4112-41a7-aafd-734794596c7c",
   "metadata": {},
   "outputs": [
    {
     "data": {
      "image/png": "[encoded data removed]",
      "text/plain": [
       "<Figure size 250x200 with 1 Axes>"
      ]
     },
     "metadata": {},
     "output_type": "display_data"
    }
   ],
   "source": [
    "from tangermeme.variant_effect import substitution_effect\n",
    " \n",
    "y_before, y_after = substitution_effect(model, X_[16:17], [[0, 1054, 0]])\n",
    "\n",
    "yb = torch.nn.functional.softmax(y_before[0].mean(dim=(0, 1)), dim=-1)\n",
    "ya = torch.nn.functional.softmax(y_after[0].mean(dim=(0, 1)), dim=-1)\n",
    "\n",
    "###\n",
    "\n",
    "plt.figure(figsize=(2.5, 2))\n",
    "\n",
    "#plt.subplot(211)\n",
    "plt.plot(yb, c='0.6', linewidth=1)\n",
    "\n",
    "plt.plot(ya, c='#FF6600', linewidth=1)\n",
    "plt.ylim(0, yb.max())\n",
    "plt.axis('off')\n",
    "\n",
    "plt.tight_layout()\n",
    "plt.savefig('tangermeme-fig1-ve-pred.pdf')\n",
    "plt.show()"
   ]
  },
  {
   "cell_type": "markdown",
   "id": "1c2c3478-7527-4425-af32-5d28c36a9e17",
   "metadata": {},
   "source": [
    "We can get DeepLIFT attributions."
   ]
  },
  {
   "cell_type": "code",
   "execution_count": 27,
   "id": "39a715a6-ef22-4cd7-9cb9-939dc90810a6",
   "metadata": {},
   "outputs": [
    {
     "data": {
      "image/png": "[encoded data removed]",
      "text/plain": [
       "<Figure size 300x200 with 2 Axes>"
      ]
     },
     "metadata": {},
     "output_type": "display_data"
    }
   ],
   "source": [
    "y_before, y_after = substitution_effect(ProfileWrapper(model), X_[16:17], [[0, 1054, 0]], func=deep_lift_shap, random_state=0)\n",
    "\n",
    "yb = y_before[:, :, 1040:1075].mean(dim=0)\n",
    "ya = y_after[:, :, 1040:1075].mean(dim=0)\n",
    "\n",
    "###\n",
    "\n",
    "plt.figure(figsize=(3, 2))\n",
    "\n",
    "plt.subplot(211)\n",
    "plot_logo(yb)\n",
    "plt.ylim(yb.min(), yb.max())\n",
    "plt.axis('off')\n",
    "\n",
    "plt.subplot(212)\n",
    "plot_logo(ya)\n",
    "plt.ylim(yb.min(), yb.max())\n",
    "plt.axis('off')\n",
    "\n",
    "plt.tight_layout()\n",
    "plt.savefig('tangermeme-fig1-ve-attr.pdf')\n",
    "plt.show()"
   ]
  },
  {
   "cell_type": "markdown",
   "id": "2d633e6a-e1ff-4b0e-91ad-56c81dbc355a",
   "metadata": {},
   "source": [
    "And we can get saturation mutagenesis."
   ]
  },
  {
   "cell_type": "code",
   "execution_count": 28,
   "id": "cd94eaaa-7ce6-40b8-b042-13336bf1cbfa",
   "metadata": {},
   "outputs": [
    {
     "data": {
      "image/png": "[encoded data removed]",
      "text/plain": [
       "<Figure size 300x200 with 2 Axes>"
      ]
     },
     "metadata": {},
     "output_type": "display_data"
    }
   ],
   "source": [
    "y_before, y_after = substitution_effect(ProfileWrapper(model), X_[16:17], [[0, 1054, 0]], func=saturation_mutagenesis)\n",
    "\n",
    "yb = y_before[:, :, 1040:1075].mean(dim=0)\n",
    "ya = y_after[:, :, 1040:1075].mean(dim=0)\n",
    "\n",
    "###\n",
    "\n",
    "plt.figure(figsize=(3, 2))\n",
    "\n",
    "plt.subplot(211)\n",
    "plot_logo(yb)\n",
    "plt.ylim(yb.min(), yb.max())\n",
    "plt.axis('off')\n",
    "\n",
    "plt.subplot(212)\n",
    "plot_logo(ya)\n",
    "plt.ylim(yb.min(), yb.max())\n",
    "plt.axis('off')\n",
    "\n",
    "plt.tight_layout()\n",
    "plt.savefig('tangermeme-fig1-ve-ism.pdf')\n",
    "plt.show()"
   ]
  }
 ],
 "metadata": {
  "kernelspec": {
   "display_name": "Python [conda env:tangermeme]",
   "language": "python",
   "name": "conda-env-tangermeme-py"
  },
  "language_info": {
   "codemirror_mode": {
    "name": "ipython",
    "version": 3
   },
   "file_extension": ".py",
   "mimetype": "text/x-python",
   "name": "python",
   "nbconvert_exporter": "python",
   "pygments_lexer": "ipython3",
   "version": "3.10.18"
  }
 },
 "nbformat": 4,
 "nbformat_minor": 5
}
